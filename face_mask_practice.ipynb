{
  "nbformat": 4,
  "nbformat_minor": 0,
  "metadata": {
    "colab": {
      "name": "face_mask_practice.ipynb",
      "provenance": [],
      "collapsed_sections": [],
      "toc_visible": true,
      "authorship_tag": "ABX9TyM48KXoPXy9/i70C7JAdpUg",
      "include_colab_link": true
    },
    "kernelspec": {
      "display_name": "Python 3",
      "name": "python3"
    }
  },
  "cells": [
    {
      "cell_type": "markdown",
      "metadata": {
        "id": "view-in-github",
        "colab_type": "text"
      },
      "source": [
        "<a href=\"https://colab.research.google.com/github/qazi112/ML-CNN-FACEMASK-WEBSITE/blob/master/face_mask_practice.ipynb\" target=\"_parent\"><img src=\"https://colab.research.google.com/assets/colab-badge.svg\" alt=\"Open In Colab\"/></a>"
      ]
    },
    {
      "cell_type": "code",
      "metadata": {
        "id": "KwHuhybBWsk8"
      },
      "source": [
        "import math, os ,json, shutil"
      ],
      "execution_count": null,
      "outputs": []
    },
    {
      "cell_type": "code",
      "metadata": {
        "id": "P5zV3eqk5g2L"
      },
      "source": [
        "!pip install tensorflowjs"
      ],
      "execution_count": null,
      "outputs": []
    },
    {
      "cell_type": "code",
      "metadata": {
        "id": "C2OtN2X4NeeX",
        "colab": {
          "base_uri": "https://localhost:8080/"
        },
        "outputId": "16235f4e-eb21-4539-c0ad-9e465fa6b365"
      },
      "source": [
        "from google.colab import drive\n",
        "drive.mount('/content/gdrive', force_remount=True)"
      ],
      "execution_count": null,
      "outputs": [
        {
          "output_type": "stream",
          "text": [
            "Mounted at /content/gdrive\n"
          ],
          "name": "stdout"
        }
      ]
    },
    {
      "cell_type": "code",
      "metadata": {
        "id": "AaObbGBFJ2Lx"
      },
      "source": [
        "import cv2 as cv\n",
        "import numpy as np\n",
        "import sys \n",
        "from tensorflow.keras.utils import to_categorical"
      ],
      "execution_count": null,
      "outputs": []
    },
    {
      "cell_type": "markdown",
      "metadata": {
        "id": "HVC1DdErZZxC"
      },
      "source": [
        "**Below code unzip the zipped dataset**"
      ]
    },
    {
      "cell_type": "code",
      "metadata": {
        "id": "j5eXKsDcXLms"
      },
      "source": [
        "# !unzip -uq \"/content/gdrive/My Drive/FaceData.zip\" -d \"/content/gdrive/My Drive/FaceData_New\""
      ],
      "execution_count": null,
      "outputs": []
    },
    {
      "cell_type": "markdown",
      "metadata": {
        "id": "FIntcyweZijK"
      },
      "source": [
        "This Is The Path of Dataset"
      ]
    },
    {
      "cell_type": "code",
      "metadata": {
        "colab": {
          "base_uri": "https://localhost:8080/"
        },
        "id": "ZE1NwnymXliM",
        "outputId": "2c1f08d7-c7e1-40d2-9803-614003f801fe"
      },
      "source": [
        "!ls \"/content/gdrive/My Drive/FaceData_New/FaceData/\""
      ],
      "execution_count": null,
      "outputs": [
        {
          "output_type": "stream",
          "text": [
            "with_mask  without_mask\n"
          ],
          "name": "stdout"
        }
      ]
    },
    {
      "cell_type": "markdown",
      "metadata": {
        "id": "FgzEM4Vabf_o"
      },
      "source": [
        "**Get Dataset Directory**"
      ]
    },
    {
      "cell_type": "code",
      "metadata": {
        "colab": {
          "base_uri": "https://localhost:8080/"
        },
        "id": "cveFhn2barXp",
        "outputId": "89409d2f-5c1f-41ab-c868-50cecbf86f16"
      },
      "source": [
        "dataset_dir = \"/content/gdrive/My Drive/FaceData_New/FaceData/\"\n",
        "\n",
        "print(dataset_dir)"
      ],
      "execution_count": null,
      "outputs": [
        {
          "output_type": "stream",
          "text": [
            "/content/gdrive/My Drive/FaceData_New/FaceData/\n"
          ],
          "name": "stdout"
        }
      ]
    },
    {
      "cell_type": "code",
      "metadata": {
        "id": "K5o5V-GWjDhk",
        "colab": {
          "base_uri": "https://localhost:8080/"
        },
        "outputId": "7cf5e227-7961-4373-ad01-c2f5d88d992e"
      },
      "source": [
        "os.listdir(dataset_dir)"
      ],
      "execution_count": null,
      "outputs": [
        {
          "output_type": "execute_result",
          "data": {
            "text/plain": [
              "['without_mask', 'with_mask']"
            ]
          },
          "metadata": {
            "tags": []
          },
          "execution_count": 12
        }
      ]
    },
    {
      "cell_type": "markdown",
      "metadata": {
        "id": "gWRRt7xjbXhe"
      },
      "source": [
        "**Get The Categories**"
      ]
    },
    {
      "cell_type": "code",
      "metadata": {
        "colab": {
          "base_uri": "https://localhost:8080/"
        },
        "id": "lJYSEdhBa3R_",
        "outputId": "a533c520-e4d8-402f-f9bb-b065c509991e"
      },
      "source": [
        "categories = list(os.listdir(dataset_dir))\n",
        "print(categories)"
      ],
      "execution_count": null,
      "outputs": [
        {
          "output_type": "stream",
          "text": [
            "['without_mask', 'with_mask']\n"
          ],
          "name": "stdout"
        }
      ]
    },
    {
      "cell_type": "code",
      "metadata": {
        "colab": {
          "base_uri": "https://localhost:8080/"
        },
        "id": "EWDASoEke4J_",
        "outputId": "e3328b49-ad84-49a7-8492-791d0de729be"
      },
      "source": [
        "labeled_categories = {}\n",
        "labels = [i for i in range(len(categories))]\n",
        "labeled_categories = dict(zip(categories,labels))\n",
        "print(labels)\n",
        "print(labeled_categories)\n",
        "print(categories)"
      ],
      "execution_count": null,
      "outputs": [
        {
          "output_type": "stream",
          "text": [
            "[0, 1]\n",
            "{'without_mask': 0, 'with_mask': 1}\n",
            "['without_mask', 'with_mask']\n"
          ],
          "name": "stdout"
        }
      ]
    },
    {
      "cell_type": "code",
      "metadata": {
        "colab": {
          "base_uri": "https://localhost:8080/"
        },
        "id": "FSy5KwSdjfHx",
        "outputId": "573c4f74-0180-4ea7-a334-6778b29305be"
      },
      "source": [
        "print(labeled_categories.keys())"
      ],
      "execution_count": null,
      "outputs": [
        {
          "output_type": "stream",
          "text": [
            "dict_keys(['without_mask', 'with_mask'])\n"
          ],
          "name": "stdout"
        }
      ]
    },
    {
      "cell_type": "markdown",
      "metadata": {
        "id": "1hhtxotHlxNn"
      },
      "source": [
        "**A Bit of Preprocessing.... BGR_2GRAY and Resize**"
      ]
    },
    {
      "cell_type": "code",
      "metadata": {
        "id": "2TJ0TTFBgAW6"
      },
      "source": [
        "image_size = 300\n",
        "data = []\n",
        "targets = []\n",
        "for category in categories:\n",
        "  folder_path = os.path.join(dataset_dir,category)\n",
        "  img_names = os.listdir(folder_path)\n",
        "  \n",
        "  for img_name in img_names:\n",
        "    img_path = os.path.join(folder_path,img_name)\n",
        "    # read the image\n",
        "    img = cv.imread(img_path)\n",
        "    try:\n",
        "      # convert to grayscale\n",
        "      img_gray = cv.cvtColor(img,cv.COLOR_BGR2GRAY)\n",
        "      # Resize using cv.resize with interpolation INTER_AREA\n",
        "      resized = cv.resize(img_gray,(image_size,image_size),interpolation = cv.INTER_AREA)\n",
        "      data.append(resized)\n",
        "      targets.append(labeled_categories[category])\n",
        "    except Exception as e:\n",
        "      print(\"Error : \",e)"
      ],
      "execution_count": null,
      "outputs": []
    },
    {
      "cell_type": "code",
      "metadata": {
        "colab": {
          "base_uri": "https://localhost:8080/"
        },
        "id": "WHu6LRCkimGQ",
        "outputId": "a436c4b3-cf5f-4999-806c-7ca1c26a0214"
      },
      "source": [
        "# Normalize the data (0-1)\n",
        "\n",
        "data = np.array(data)/255.0\n",
        "\n",
        "data = np.reshape(data,(data.shape[0],image_size,image_size,1))\n",
        "targets = np.array(targets)\n",
        "new_targets = to_categorical(targets)\n",
        "print(new_targets[0])\n",
        "print(labeled_categories)\n",
        "np.save(\"data\",data)\n",
        "np.save(\"target\",new_targets)\n"
      ],
      "execution_count": null,
      "outputs": [
        {
          "output_type": "stream",
          "text": [
            "[1. 0.]\n",
            "{'without_mask': 0, 'with_mask': 1}\n"
          ],
          "name": "stdout"
        }
      ]
    },
    {
      "cell_type": "markdown",
      "metadata": {
        "id": "fjTxZSzGliIL"
      },
      "source": [
        "Below is funcion to get Key from Value from dictionary"
      ]
    },
    {
      "cell_type": "code",
      "metadata": {
        "id": "qD08ek5vlCpq"
      },
      "source": [
        "def get_key(val):\n",
        "    for key, value in labeled_categories.items():\n",
        "         if val == value:\n",
        "             return key"
      ],
      "execution_count": null,
      "outputs": []
    },
    {
      "cell_type": "markdown",
      "metadata": {
        "id": "u2FrDxjT-wVF"
      },
      "source": [
        "**Sklearn.model_selection import train_test_split splits data into train and test datasets**"
      ]
    },
    {
      "cell_type": "code",
      "metadata": {
        "colab": {
          "base_uri": "https://localhost:8080/"
        },
        "id": "XNSME7kd8QhE",
        "outputId": "4842d494-95d9-40a6-f73f-9352dfb3a2d1"
      },
      "source": [
        "from sklearn.model_selection import train_test_split\n",
        "train_data,test_data,train_target,test_target =train_test_split(data,new_targets,test_size=0.2)\n",
        "print(test_target.shape)"
      ],
      "execution_count": null,
      "outputs": [
        {
          "output_type": "stream",
          "text": [
            "(276, 2)\n"
          ],
          "name": "stdout"
        }
      ]
    },
    {
      "cell_type": "code",
      "metadata": {
        "id": "NVEkpofAEk3w"
      },
      "source": [
        "train_target = np.array(train_target,dtype=\"int32\")\n"
      ],
      "execution_count": null,
      "outputs": []
    },
    {
      "cell_type": "code",
      "metadata": {
        "id": "e2qI7dl1plXO"
      },
      "source": [
        "train_data"
      ],
      "execution_count": null,
      "outputs": []
    },
    {
      "cell_type": "markdown",
      "metadata": {
        "id": "ipiV28um_G4r"
      },
      "source": [
        "**Building the CNN architecture**"
      ]
    },
    {
      "cell_type": "code",
      "metadata": {
        "id": "d-r-wGRN_FnK"
      },
      "source": [
        "from tensorflow.keras.models import Sequential\n",
        "from tensorflow.keras import layers\n",
        "from tensorflow.keras.layers import Conv2D, MaxPooling2D , Dropout , Activation , Flatten\n",
        "from tensorflow.keras.callbacks import ModelCheckpoint\n"
      ],
      "execution_count": null,
      "outputs": []
    },
    {
      "cell_type": "code",
      "metadata": {
        "colab": {
          "base_uri": "https://localhost:8080/"
        },
        "id": "A89K09hR8IZe",
        "outputId": "a36d7303-8339-433e-fc6e-115cdb260a1e"
      },
      "source": [
        "train_data[0].shape"
      ],
      "execution_count": null,
      "outputs": [
        {
          "output_type": "execute_result",
          "data": {
            "text/plain": [
              "(300, 300, 1)"
            ]
          },
          "metadata": {
            "tags": []
          },
          "execution_count": 77
        }
      ]
    },
    {
      "cell_type": "code",
      "metadata": {
        "id": "okVsMWZWACO_"
      },
      "source": [
        "model = Sequential()\n",
        "# First conv layer\n",
        "model.add(layers.Conv2D(32,(3,3),activation=\"relu\",input_shape=data.shape[1:]))\n",
        "model.add(layers.MaxPool2D(pool_size=(2,2)))\n",
        "model.add(Dropout(0.3))\n",
        "\n",
        "model.add(Conv2D(64, (3, 3)))\n",
        "model.add(Activation('relu'))\n",
        "model.add(MaxPooling2D(pool_size=(2, 2)))\n",
        "\n",
        "\n",
        "model.add(Conv2D(128, (3, 3)))\n",
        "model.add(Activation('relu'))\n",
        "model.add(MaxPooling2D(pool_size=(2, 2)))\n",
        "# model.add(Dropout(0.3))\n",
        "\n",
        "model.add(Conv2D(256, (3, 3)))\n",
        "model.add(Activation('relu'))\n",
        "model.add(MaxPooling2D(pool_size=(2, 2)))\n",
        "model.add(Dropout(0.3))\n",
        "\n",
        "model.add(Flatten())\n",
        "model.add(layers.Dense(100,activation=\"relu\"))\n",
        "model.add(layers.Dense(2,activation=\"softmax\"))\n",
        "\n",
        "\n"
      ],
      "execution_count": null,
      "outputs": []
    },
    {
      "cell_type": "code",
      "metadata": {
        "id": "UfBeyIM14Qc4"
      },
      "source": [
        "checkpoint_dir = 'face_saved_model'\n",
        "checkpoint = ModelCheckpoint(filepath=checkpoint_dir, \n",
        "                            frequency = \"epoch\",\n",
        "                            save_weights_only = False,\n",
        "                             verbose= True)"
      ],
      "execution_count": null,
      "outputs": []
    },
    {
      "cell_type": "code",
      "metadata": {
        "id": "dNZk_9CnFo5p"
      },
      "source": [
        "model.compile(loss='categorical_crossentropy',\n",
        "              optimizer='adam',\n",
        "              metrics=['accuracy'],\n",
        "             \n",
        "\n",
        "              )\n"
      ],
      "execution_count": null,
      "outputs": []
    },
    {
      "cell_type": "code",
      "metadata": {
        "colab": {
          "base_uri": "https://localhost:8080/"
        },
        "id": "mFJlKUsFLhAW",
        "outputId": "c2e76cc2-c0e7-48d2-bedc-3e56e0bd11d6"
      },
      "source": [
        "# checkpoint = ModelCheckpoint('Model-{epoch:03d}.model',monitor=\"val_loss\",verbose=0,save_best_only=True,mode='auto')\n",
        "history = model.fit(train_data,train_target,callbacks=[checkpoint],validation_split=0.2,epochs=5,batch_size=32)\n",
        "\n"
      ],
      "execution_count": null,
      "outputs": [
        {
          "output_type": "stream",
          "text": [
            "Epoch 1/5\n",
            "28/28 [==============================] - 163s 6s/step - loss: 1.1925 - accuracy: 0.5265 - val_loss: 0.6749 - val_accuracy: 0.5682\n",
            "\n",
            "Epoch 00001: saving model to face_saved_model\n",
            "INFO:tensorflow:Assets written to: face_saved_model/assets\n",
            "Epoch 2/5\n",
            "28/28 [==============================] - 163s 6s/step - loss: 0.6352 - accuracy: 0.6215 - val_loss: 0.5480 - val_accuracy: 0.7364\n",
            "\n",
            "Epoch 00002: saving model to face_saved_model\n",
            "INFO:tensorflow:Assets written to: face_saved_model/assets\n",
            "Epoch 3/5\n",
            "28/28 [==============================] - 158s 6s/step - loss: 0.4645 - accuracy: 0.7838 - val_loss: 0.8161 - val_accuracy: 0.5273\n",
            "\n",
            "Epoch 00003: saving model to face_saved_model\n",
            "INFO:tensorflow:Assets written to: face_saved_model/assets\n",
            "Epoch 4/5\n",
            "28/28 [==============================] - 160s 6s/step - loss: 0.2951 - accuracy: 0.8961 - val_loss: 0.5281 - val_accuracy: 0.7500\n",
            "\n",
            "Epoch 00004: saving model to face_saved_model\n",
            "INFO:tensorflow:Assets written to: face_saved_model/assets\n",
            "Epoch 5/5\n",
            "28/28 [==============================] - 163s 6s/step - loss: 0.1393 - accuracy: 0.9510 - val_loss: 0.4347 - val_accuracy: 0.8045\n",
            "\n",
            "Epoch 00005: saving model to face_saved_model\n",
            "INFO:tensorflow:Assets written to: face_saved_model/assets\n"
          ],
          "name": "stdout"
        }
      ]
    },
    {
      "cell_type": "markdown",
      "metadata": {
        "id": "wpWysBW4bTg8"
      },
      "source": [
        "# **Test Accuracy Check**"
      ]
    },
    {
      "cell_type": "code",
      "metadata": {
        "id": "YQuuKJZXZKft"
      },
      "source": [
        "test_target= np.array(test_target,dtype=\"int32\")\n",
        "test_loss,test_acc = model.evaluate(test_data,test_target)\n",
        "print(test_acc)"
      ],
      "execution_count": null,
      "outputs": []
    },
    {
      "cell_type": "code",
      "metadata": {
        "id": "3LkYi2DGG7xC",
        "colab": {
          "base_uri": "https://localhost:8080/",
          "height": 306
        },
        "outputId": "1995dd2a-ac12-4e2c-ea38-90432e30178b"
      },
      "source": [
        "import tensorflowjs as tfjs"
      ],
      "execution_count": null,
      "outputs": [
        {
          "output_type": "error",
          "ename": "ModuleNotFoundError",
          "evalue": "ignored",
          "traceback": [
            "\u001b[0;31m---------------------------------------------------------------------------\u001b[0m",
            "\u001b[0;31mModuleNotFoundError\u001b[0m                       Traceback (most recent call last)",
            "\u001b[0;32m<ipython-input-5-e91b9d5db072>\u001b[0m in \u001b[0;36m<module>\u001b[0;34m()\u001b[0m\n\u001b[0;32m----> 1\u001b[0;31m \u001b[0;32mimport\u001b[0m \u001b[0mtensorflowjs\u001b[0m \u001b[0;32mas\u001b[0m \u001b[0mtfjs\u001b[0m\u001b[0;34m\u001b[0m\u001b[0;34m\u001b[0m\u001b[0m\n\u001b[0m",
            "\u001b[0;31mModuleNotFoundError\u001b[0m: No module named 'tensorflowjs'",
            "",
            "\u001b[0;31m---------------------------------------------------------------------------\u001b[0;32m\nNOTE: If your import is failing due to a missing package, you can\nmanually install dependencies using either !pip or !apt.\n\nTo view examples of installing some common dependencies, click the\n\"Open Examples\" button below.\n\u001b[0;31m---------------------------------------------------------------------------\u001b[0m\n"
          ]
        }
      ]
    },
    {
      "cell_type": "code",
      "metadata": {
        "colab": {
          "base_uri": "https://localhost:8080/"
        },
        "id": "WzRXGcrxGrlG",
        "outputId": "c0ad9193-c070-44a8-ce0c-92114ce22a5c"
      },
      "source": [
        "tfjs.converters.save_keras_model(model, 'new_models')"
      ],
      "execution_count": null,
      "outputs": [
        {
          "output_type": "stream",
          "text": [
            "/usr/local/lib/python3.7/dist-packages/tensorflowjs/converters/keras_h5_conversion.py:123: H5pyDeprecationWarning: The default file mode will change to 'r' (read-only) in h5py 3.0. To suppress this warning, pass the mode you need to h5py.File(), or set the global default h5.get_config().default_file_mode, or set the environment variable H5PY_DEFAULT_READONLY=1. Available modes are: 'r', 'r+', 'w', 'w-'/'x', 'a'. See the docs for details.\n",
            "  return h5py.File(h5file)\n"
          ],
          "name": "stderr"
        }
      ]
    },
    {
      "cell_type": "code",
      "metadata": {
        "id": "0dunS13Y_ztE",
        "colab": {
          "base_uri": "https://localhost:8080/",
          "height": 365
        },
        "outputId": "8172969a-7ddb-4646-cb08-57efbe5a623b"
      },
      "source": [
        "from tensorflow.keras.models import load_model\n",
        "arsalan = load_model(\"/content/gdrive/My Drive/face_saved_model\")"
      ],
      "execution_count": null,
      "outputs": [
        {
          "output_type": "error",
          "ename": "OSError",
          "evalue": "ignored",
          "traceback": [
            "\u001b[0;31m---------------------------------------------------------------------------\u001b[0m",
            "\u001b[0;31mOSError\u001b[0m                                   Traceback (most recent call last)",
            "\u001b[0;32m<ipython-input-8-92bb40e27c7b>\u001b[0m in \u001b[0;36m<module>\u001b[0;34m()\u001b[0m\n\u001b[1;32m      1\u001b[0m \u001b[0;32mfrom\u001b[0m \u001b[0mtensorflow\u001b[0m\u001b[0;34m.\u001b[0m\u001b[0mkeras\u001b[0m\u001b[0;34m.\u001b[0m\u001b[0mmodels\u001b[0m \u001b[0;32mimport\u001b[0m \u001b[0mload_model\u001b[0m\u001b[0;34m\u001b[0m\u001b[0;34m\u001b[0m\u001b[0m\n\u001b[0;32m----> 2\u001b[0;31m \u001b[0marsalan\u001b[0m \u001b[0;34m=\u001b[0m \u001b[0mload_model\u001b[0m\u001b[0;34m(\u001b[0m\u001b[0;34m\"/content/gdrive/My Drive/face_saved_model\"\u001b[0m\u001b[0;34m)\u001b[0m\u001b[0;34m\u001b[0m\u001b[0;34m\u001b[0m\u001b[0m\n\u001b[0m",
            "\u001b[0;32m/usr/local/lib/python3.7/dist-packages/tensorflow/python/keras/saving/save.py\u001b[0m in \u001b[0;36mload_model\u001b[0;34m(filepath, custom_objects, compile, options)\u001b[0m\n\u001b[1;32m    209\u001b[0m       \u001b[0mfilepath\u001b[0m \u001b[0;34m=\u001b[0m \u001b[0mpath_to_string\u001b[0m\u001b[0;34m(\u001b[0m\u001b[0mfilepath\u001b[0m\u001b[0;34m)\u001b[0m\u001b[0;34m\u001b[0m\u001b[0;34m\u001b[0m\u001b[0m\n\u001b[1;32m    210\u001b[0m       \u001b[0;32mif\u001b[0m \u001b[0misinstance\u001b[0m\u001b[0;34m(\u001b[0m\u001b[0mfilepath\u001b[0m\u001b[0;34m,\u001b[0m \u001b[0msix\u001b[0m\u001b[0;34m.\u001b[0m\u001b[0mstring_types\u001b[0m\u001b[0;34m)\u001b[0m\u001b[0;34m:\u001b[0m\u001b[0;34m\u001b[0m\u001b[0;34m\u001b[0m\u001b[0m\n\u001b[0;32m--> 211\u001b[0;31m         \u001b[0mloader_impl\u001b[0m\u001b[0;34m.\u001b[0m\u001b[0mparse_saved_model\u001b[0m\u001b[0;34m(\u001b[0m\u001b[0mfilepath\u001b[0m\u001b[0;34m)\u001b[0m\u001b[0;34m\u001b[0m\u001b[0;34m\u001b[0m\u001b[0m\n\u001b[0m\u001b[1;32m    212\u001b[0m         \u001b[0;32mreturn\u001b[0m \u001b[0msaved_model_load\u001b[0m\u001b[0;34m.\u001b[0m\u001b[0mload\u001b[0m\u001b[0;34m(\u001b[0m\u001b[0mfilepath\u001b[0m\u001b[0;34m,\u001b[0m \u001b[0mcompile\u001b[0m\u001b[0;34m,\u001b[0m \u001b[0moptions\u001b[0m\u001b[0;34m)\u001b[0m\u001b[0;34m\u001b[0m\u001b[0;34m\u001b[0m\u001b[0m\n\u001b[1;32m    213\u001b[0m \u001b[0;34m\u001b[0m\u001b[0m\n",
            "\u001b[0;32m/usr/local/lib/python3.7/dist-packages/tensorflow/python/saved_model/loader_impl.py\u001b[0m in \u001b[0;36mparse_saved_model\u001b[0;34m(export_dir)\u001b[0m\n\u001b[1;32m    112\u001b[0m                   (export_dir,\n\u001b[1;32m    113\u001b[0m                    \u001b[0mconstants\u001b[0m\u001b[0;34m.\u001b[0m\u001b[0mSAVED_MODEL_FILENAME_PBTXT\u001b[0m\u001b[0;34m,\u001b[0m\u001b[0;34m\u001b[0m\u001b[0;34m\u001b[0m\u001b[0m\n\u001b[0;32m--> 114\u001b[0;31m                    constants.SAVED_MODEL_FILENAME_PB))\n\u001b[0m\u001b[1;32m    115\u001b[0m \u001b[0;34m\u001b[0m\u001b[0m\n\u001b[1;32m    116\u001b[0m \u001b[0;34m\u001b[0m\u001b[0m\n",
            "\u001b[0;31mOSError\u001b[0m: SavedModel file does not exist at: /content/gdrive/My Drive/face_saved_model/{saved_model.pbtxt|saved_model.pb}"
          ]
        }
      ]
    },
    {
      "cell_type": "code",
      "metadata": {
        "colab": {
          "base_uri": "https://localhost:8080/",
          "height": 269
        },
        "id": "Uua3GtIHagca",
        "outputId": "cdead71d-4634-4604-9595-b929cf9f8579"
      },
      "source": [
        "name = test_data[1].copy()\n",
        "name_graph = name.reshape((300,300))\n",
        "name = name.reshape((1,300,300,1))\n",
        "import matplotlib.pyplot as plt\n",
        "plt.imshow(name_graph,cmap = plt.cm.binary)\n",
        "plt.show()\n"
      ],
      "execution_count": null,
      "outputs": [
        {
          "output_type": "display_data",
          "data": {
            "image/png": "[encoded data removed]",
            "text/plain": [
              "<Figure size 432x288 with 1 Axes>"
            ]
          },
          "metadata": {
            "tags": [],
            "needs_background": "light"
          }
        }
      ]
    },
    {
      "cell_type": "code",
      "metadata": {
        "id": "uuUEjEW-RAkW"
      },
      "source": [
        ""
      ],
      "execution_count": null,
      "outputs": []
    },
    {
      "cell_type": "code",
      "metadata": {
        "colab": {
          "base_uri": "https://localhost:8080/",
          "height": 52
        },
        "id": "ZTv2GGvpbb3J",
        "outputId": "0ddbb9b8-0b62-424d-d4bb-dfd52c2e866e"
      },
      "source": [
        "predictions = arsalan.predict(name)\n",
        "print(predictions)\n",
        "np.argmax(predictions)\n",
        "get_key(np.argmax(predictions))"
      ],
      "execution_count": null,
      "outputs": [
        {
          "output_type": "stream",
          "text": [
            "[[0.9811281  0.01887188]]\n"
          ],
          "name": "stdout"
        },
        {
          "output_type": "execute_result",
          "data": {
            "application/vnd.google.colaboratory.intrinsic+json": {
              "type": "string"
            },
            "text/plain": [
              "'without_mask'"
            ]
          },
          "metadata": {
            "tags": []
          },
          "execution_count": 134
        }
      ]
    },
    {
      "cell_type": "code",
      "metadata": {
        "id": "K2R1AznFNtet"
      },
      "source": [
        "!ls \"/content/gdrive/MyDrive/\""
      ],
      "execution_count": null,
      "outputs": []
    },
    {
      "cell_type": "markdown",
      "metadata": {
        "id": "3Vd2InpnixiR"
      },
      "source": [
        "Note : For resizing use, cv.resize(source,new_shape(,),interpolation = cv.INTER_AREA)"
      ]
    },
    {
      "cell_type": "code",
      "metadata": {
        "colab": {
          "base_uri": "https://localhost:8080/",
          "height": 286
        },
        "id": "PXrMDa4wOC9W",
        "outputId": "9054093e-0545-44be-b1a1-8cd505a274d4"
      },
      "source": [
        "img = cv.imread(\"/content/gdrive/My Drive/hassan.jpeg\",cv.IMREAD_UNCHANGED)\n",
        "img_gray = cv.cvtColor(img,cv.COLOR_BGR2GRAY)\n",
        "# resizing the image use cv.resize but with extra care\n",
        "\n",
        "resized_image = cv.resize(img,(300,300),interpolation= cv.INTER_AREA)\n",
        "img_gray = cv.cvtColor(resized_image,cv.COLOR_BGR2GRAY)\n",
        "print(img_gray.shape)\n",
        "import matplotlib.pyplot as plt\n",
        "plt.imshow(img_gray,cmap=plt.cm.binary)\n",
        "plt.show()\n"
      ],
      "execution_count": null,
      "outputs": [
        {
          "output_type": "stream",
          "text": [
            "(300, 300)\n"
          ],
          "name": "stdout"
        },
        {
          "output_type": "display_data",
          "data": {
            "image/png": "[encoded data removed]",
            "text/plain": [
              "<Figure size 432x288 with 1 Axes>"
            ]
          },
          "metadata": {
            "tags": [],
            "needs_background": "light"
          }
        }
      ]
    },
    {
      "cell_type": "code",
      "metadata": {
        "colab": {
          "base_uri": "https://localhost:8080/",
          "height": 35
        },
        "id": "Tm2zN7L7R2V7",
        "outputId": "8b754667-2126-4397-9ce9-3b851068085f"
      },
      "source": [
        "img_gray = img_gray.reshape((1,300,300,1))\n",
        "img_gray.shape\n",
        "pre = arsalan.predict(img_gray)\n",
        "get_key(np.argmax(pre))"
      ],
      "execution_count": null,
      "outputs": [
        {
          "output_type": "execute_result",
          "data": {
            "application/vnd.google.colaboratory.intrinsic+json": {
              "type": "string"
            },
            "text/plain": [
              "'without_mask'"
            ]
          },
          "metadata": {
            "tags": []
          },
          "execution_count": 149
        }
      ]
    },
    {
      "cell_type": "code",
      "metadata": {
        "colab": {
          "base_uri": "https://localhost:8080/"
        },
        "id": "3YyWpdAIdZ7u",
        "outputId": "4f422cb2-8593-4938-842a-c7ad9339cfb4"
      },
      "source": [
        "img_gray.shape"
      ],
      "execution_count": null,
      "outputs": [
        {
          "output_type": "execute_result",
          "data": {
            "text/plain": [
              "(100, 100)"
            ]
          },
          "metadata": {
            "tags": []
          },
          "execution_count": 69
        }
      ]
    },
    {
      "cell_type": "markdown",
      "metadata": {
        "id": "w0nwj5uEfkK7"
      },
      "source": [
        "**Reshape Numpy Array using cv with some scaling**"
      ]
    },
    {
      "cell_type": "code",
      "metadata": {
        "id": "D6OY_oYFdMbD"
      },
      "source": [
        "def resizeImage(frame , scale = 0.5):\n",
        "  width = int(frame.shape[1]*scale)\n",
        "  height = int(frame.shape[0]*scale)\n",
        "  dimensions = tuple((width,height))\n",
        "  return cv.resize(frame,dimensions,interpolation = cv.INTER_AREA)"
      ],
      "execution_count": null,
      "outputs": []
    },
    {
      "cell_type": "markdown",
      "metadata": {
        "id": "O-RdUKRAjGev"
      },
      "source": [
        "Use below function to resize image with specific width and heigth"
      ]
    },
    {
      "cell_type": "code",
      "metadata": {
        "id": "pwgsa8D2iBqz"
      },
      "source": [
        "def resizeImage(frame , width , height):\n",
        "  \n",
        "  dimensions = tuple((width,height))\n",
        "  return cv.resize(frame,dimensions,interpolation = cv.INTER_AREA)"
      ],
      "execution_count": null,
      "outputs": []
    },
    {
      "cell_type": "code",
      "metadata": {
        "id": "Z-m4pe39zlPu"
      },
      "source": [
        "new_model = keras.models.load_model(\"/content/gdrive/My Drive/\")"
      ],
      "execution_count": null,
      "outputs": []
    },
    {
      "cell_type": "code",
      "metadata": {
        "colab": {
          "base_uri": "https://localhost:8080/"
        },
        "id": "qGvNLubezupn",
        "outputId": "f6ee6193-0388-4f1f-ee38-2a2a536c530d"
      },
      "source": [
        "loss, acc = new_model.evaluate(test_data,test_target)"
      ],
      "execution_count": null,
      "outputs": [
        {
          "output_type": "stream",
          "text": [
            "9/9 [==============================] - 36s 4s/step - loss: 0.6860 - accuracy: 0.5616\n"
          ],
          "name": "stdout"
        }
      ]
    }
  ]
}